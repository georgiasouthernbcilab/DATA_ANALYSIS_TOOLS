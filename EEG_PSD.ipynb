{
 "cells": [
  {
   "cell_type": "code",
   "execution_count": 1,
   "metadata": {},
   "outputs": [
    {
     "ename": "FileNotFoundError",
     "evalue": "[WinError 2] The system cannot find the file specified: 'retrieval folder'",
     "output_type": "error",
     "traceback": [
      "\u001b[1;31m---------------------------------------------------------------------------\u001b[0m",
      "\u001b[1;31mFileNotFoundError\u001b[0m                         Traceback (most recent call last)",
      "Cell \u001b[1;32mIn[1], line 9\u001b[0m\n\u001b[0;32m      7\u001b[0m folder \u001b[38;5;241m=\u001b[39m \u001b[38;5;124m\"\u001b[39m\u001b[38;5;124mretrieval folder\u001b[39m\u001b[38;5;124m\"\u001b[39m \u001b[38;5;66;03m# Specify your directories.\u001b[39;00m\n\u001b[0;32m      8\u001b[0m working_output \u001b[38;5;241m=\u001b[39m \u001b[38;5;124m\"\u001b[39m\u001b[38;5;124moutput folder\u001b[39m\u001b[38;5;124m\"\u001b[39m\n\u001b[1;32m----> 9\u001b[0m \u001b[43mos\u001b[49m\u001b[38;5;241;43m.\u001b[39;49m\u001b[43mchdir\u001b[49m\u001b[43m(\u001b[49m\u001b[43mfolder\u001b[49m\u001b[43m)\u001b[49m\n\u001b[0;32m     11\u001b[0m \u001b[38;5;28;01mdef\u001b[39;00m \u001b[38;5;21mread_csv\u001b[39m(file_path):\n\u001b[0;32m     12\u001b[0m     df \u001b[38;5;241m=\u001b[39m pd\u001b[38;5;241m.\u001b[39mread_csv(file_path, usecols\u001b[38;5;241m=\u001b[39m\u001b[38;5;28mrange\u001b[39m(\u001b[38;5;241m4\u001b[39m, \u001b[38;5;241m36\u001b[39m), header\u001b[38;5;241m=\u001b[39m\u001b[38;5;241m0\u001b[39m, skiprows\u001b[38;5;241m=\u001b[39m[\u001b[38;5;241m0\u001b[39m])\n",
      "\u001b[1;31mFileNotFoundError\u001b[0m: [WinError 2] The system cannot find the file specified: 'retrieval folder'"
     ]
    }
   ],
   "source": [
    "import matplotlib.pyplot as plt\n",
    "import numpy as np\n",
    "import os\n",
    "import pandas as pd\n",
    "from scipy.signal import welch, butter, filtfilt\n",
    "\n",
    "folder = \"retrieval folder\" # Specify your directories.\n",
    "working_output = \"output folder\"\n",
    "os.chdir(folder)\n",
    "\n",
    "def read_csv(file_path):\n",
    "    df = pd.read_csv(file_path, usecols=range(4, 36), header=0, skiprows=[0])\n",
    "    return df\n",
    "\n",
    "def highpass_filter(data, cutoff=1.0, fs=128, order=5):\n",
    "    nyquist = 0.5 * fs\n",
    "    normal_cutoff = cutoff / nyquist\n",
    "    b, a = butter(order, normal_cutoff, btype='high', analog=False)\n",
    "    y = filtfilt(b, a, data)\n",
    "    return y\n",
    "    \n",
    "\n",
    "def compute_psd(data, sampling_rate=128):\n",
    "    psd_dict = {}\n",
    "    for column in data.columns:\n",
    "        filtered_data = highpass_filter(data[column], cutoff=1.0, fs=sampling_rate, order=5)\n",
    "        frequency, powervalues = welch(filtered_data, fs=sampling_rate, nperseg=256) # nperseg can be adjusted for resolution.\n",
    "        psd_dict[column] = (frequency, powervalues)\n",
    "    return psd_dict\n",
    "\n",
    "def plot_psd(psd_dict, freq_range, file_name, output_path):\n",
    "    plt.figure(figsize=(12, 8))\n",
    "    for label, (freqs, psd) in psd_dict.items():\n",
    "        mask = (freqs >= freq_range[0]) & (freqs <= freq_range[1])\n",
    "        freqs, psd = freqs[mask], psd[mask]\n",
    "        plt.plot(freqs, 10 * np.log10(psd), label=label[4:]) \n",
    "    plt.xlabel('Frequency (Hz)')\n",
    "    plt.ylabel('Power Spectral Density (dB/Hz)')\n",
    "    plt.title(file_name)\n",
    "    plt.legend()\n",
    "    plt.show()\n",
    "    # plt.savefig(output_path) # For saving plots. This will create folders and files.\n",
    "    # plt.close()\n",
    "\n",
    "for root, dirs, files in os.walk(folder):\n",
    "    for file in files:\n",
    "        if file.endswith(\".csv\"):\n",
    "            file_path = os.path.join(root, file)\n",
    "            data = read_csv(file_path)\n",
    "            psd_dict = compute_psd(data)\n",
    "\n",
    "            relative_path = os.path.relpath(root, folder)\n",
    "            output_directory = os.path.join(working_output, relative_path)\n",
    "            os.makedirs(output_directory, exist_ok=True)\n",
    "            output_file_path = os.path.join(output_directory, file.replace('.csv', '.png'))\n",
    "            plot_psd(psd_dict, freq_range=(1, 40), file_name=file, output_path=output_file_path)\n"
   ]
  }
 ],
 "metadata": {
  "kernelspec": {
   "display_name": "Python 3",
   "language": "python",
   "name": "python3"
  },
  "language_info": {
   "codemirror_mode": {
    "name": "ipython",
    "version": 3
   },
   "file_extension": ".py",
   "mimetype": "text/x-python",
   "name": "python",
   "nbconvert_exporter": "python",
   "pygments_lexer": "ipython3",
   "version": "3.9.13"
  }
 },
 "nbformat": 4,
 "nbformat_minor": 2
}
